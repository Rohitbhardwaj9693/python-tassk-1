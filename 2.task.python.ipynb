{
 "cells": [
  {
   "cell_type": "code",
   "execution_count": 43,
   "id": "51e11c7c-eb1d-45b6-ab09-2174bacd69de",
   "metadata": {},
   "outputs": [
    {
     "name": "stdin",
     "output_type": "stream",
     "text": [
      "enter a vallid password fghl'gksg\n"
     ]
    },
    {
     "name": "stdout",
     "output_type": "stream",
     "text": [
      "in v\n"
     ]
    }
   ],
   "source": [
    "l,p,u,d = 0,0,0,0\n",
    "s= input(\"enter a vallid password\")\n",
    "for i in s:\n",
    "    if (i.isupper()):\n",
    "            l=l+1\n",
    "    if (i.islower()):\n",
    "            u=u+1\n",
    "    if (i.isdigit()):\n",
    "            p=p+1\n",
    "    if (i=='@' or i==\"$\" or i== \"_\"):\n",
    "            d=d+1\n",
    "if(l>=1 and u>=1 and p>=1 and d>=1 and l+u+p+d == len(s)):\n",
    "         print(\"va\")\n",
    "else:\n",
    "        print(\"in v\")"
   ]
  },
  {
   "cell_type": "code",
   "execution_count": 16,
   "id": "bb6550f9-b4b6-448a-bb76-151315210c62",
   "metadata": {},
   "outputs": [
    {
     "data": {
      "text/plain": [
       "[1, 4, 9, 16, 25, 36, 49, 64, 81]"
      ]
     },
     "execution_count": 16,
     "metadata": {},
     "output_type": "execute_result"
    }
   ],
   "source": [
    "# find square of the given number\n",
    "\n",
    "l=range(1,10)\n",
    "list(map(lambda i: i*i,l))"
   ]
  },
  {
   "cell_type": "code",
   "execution_count": 21,
   "id": "bb4620e0-02f9-438a-b825-b84ff4b27913",
   "metadata": {},
   "outputs": [
    {
     "data": {
      "text/plain": [
       "(1, 8, 27, 64, 125, 216, 343, 512, 729, 1000)"
      ]
     },
     "execution_count": 21,
     "metadata": {},
     "output_type": "execute_result"
    }
   ],
   "source": [
    "# fins cube of the given number\n",
    "\n",
    "l1=range(1,11)\n",
    "tuple(map(lambda i : i*i*i,l1))"
   ]
  },
  {
   "cell_type": "code",
   "execution_count": 48,
   "id": "ed7c2ea0-a963-46ab-a79b-e434719dbf9b",
   "metadata": {},
   "outputs": [
    {
     "data": {
      "text/plain": [
       "[1, 3, 5, 7, 9]"
      ]
     },
     "execution_count": 48,
     "metadata": {},
     "output_type": "execute_result"
    }
   ],
   "source": [
    "# filter odd number from the given list\n",
    "\n",
    "l2=[1,2,3,4,5,6,7,8,9,10]\n",
    "list(filter(lambda i: i%2!=0,l2))"
   ]
  },
  {
   "cell_type": "code",
   "execution_count": null,
   "id": "02cdb47d-6c04-40fd-89cf-5e83bff0e0b1",
   "metadata": {},
   "outputs": [],
   "source": []
  },
  {
   "cell_type": "code",
   "execution_count": 52,
   "id": "c1308ec6-62e6-4a41-aa7c-8061857df297",
   "metadata": {},
   "outputs": [],
   "source": [
    "# sort a list\n",
    "\n",
    "l3=[1,2,3,4,5,6,-1,-2,-3,-4,-5,0]\n",
    "l3.sort(key= lambda i: i)"
   ]
  },
  {
   "cell_type": "code",
   "execution_count": 53,
   "id": "9859fd5f-5f21-4648-9753-854e16e07d3f",
   "metadata": {},
   "outputs": [
    {
     "data": {
      "text/plain": [
       "[-5, -4, -3, -2, -1, 0, 1, 2, 3, 4, 5, 6]"
      ]
     },
     "execution_count": 53,
     "metadata": {},
     "output_type": "execute_result"
    }
   ],
   "source": [
    "l3"
   ]
  },
  {
   "cell_type": "code",
   "execution_count": 6,
   "id": "68258b14-bccb-4ad9-8b4c-b5f861a13146",
   "metadata": {},
   "outputs": [],
   "source": [
    "# sort a list\n",
    "\n",
    "l4=[(\"mango\",99),(\"orange\",80),(\"grapes\",1000)]\n",
    "l4.sort(key=lambda i : i[1])"
   ]
  },
  {
   "cell_type": "code",
   "execution_count": 7,
   "id": "ddada956-9f23-4d3c-9bdc-f4f171364447",
   "metadata": {},
   "outputs": [
    {
     "data": {
      "text/plain": [
       "[('orange', 80), ('mango', 99), ('grapes', 1000)]"
      ]
     },
     "execution_count": 7,
     "metadata": {},
     "output_type": "execute_result"
    }
   ],
   "source": [
    "l4"
   ]
  },
  {
   "cell_type": "code",
   "execution_count": 14,
   "id": "600d0145-4324-42b5-8bcd-7f445b0f362d",
   "metadata": {},
   "outputs": [],
   "source": [
    "# check if the string is numeric\n",
    "\n",
    "s= lambda s: s.isnumeric()"
   ]
  },
  {
   "cell_type": "code",
   "execution_count": 15,
   "id": "d72c60a5-b46d-4171-94f7-49896506b4f9",
   "metadata": {},
   "outputs": [
    {
     "data": {
      "text/plain": [
       "True"
      ]
     },
     "execution_count": 15,
     "metadata": {},
     "output_type": "execute_result"
    }
   ],
   "source": [
    "p('123')"
   ]
  },
  {
   "cell_type": "code",
   "execution_count": 16,
   "id": "56899e8f-0cb4-4c7d-8807-1a1cdc157a5d",
   "metadata": {},
   "outputs": [
    {
     "data": {
      "text/plain": [
       "False"
      ]
     },
     "execution_count": 16,
     "metadata": {},
     "output_type": "execute_result"
    }
   ],
   "source": [
    "p('rohit')"
   ]
  },
  {
   "cell_type": "code",
   "execution_count": 25,
   "id": "bdb87f48-525d-4352-8a92-7775060aa529",
   "metadata": {},
   "outputs": [],
   "source": [
    "# check if a given number is even\n",
    "\n",
    "even =lambda i : True if i%2==0 else False"
   ]
  },
  {
   "cell_type": "code",
   "execution_count": 26,
   "id": "5aea71d8-d306-45b4-8f0a-73c5c9e17e89",
   "metadata": {},
   "outputs": [
    {
     "data": {
      "text/plain": [
       "True"
      ]
     },
     "execution_count": 26,
     "metadata": {},
     "output_type": "execute_result"
    }
   ],
   "source": [
    "even(2)"
   ]
  },
  {
   "cell_type": "code",
   "execution_count": 32,
   "id": "ca36ae01-1567-4d9d-bc47-069baab15c77",
   "metadata": {},
   "outputs": [
    {
     "data": {
      "text/plain": [
       "False"
      ]
     },
     "execution_count": 32,
     "metadata": {},
     "output_type": "execute_result"
    }
   ],
   "source": [
    "even(3)"
   ]
  },
  {
   "cell_type": "code",
   "execution_count": null,
   "id": "d87a5f91-4aa9-4530-b317-fc9bc377c7e5",
   "metadata": {},
   "outputs": [],
   "source": []
  }
 ],
 "metadata": {
  "kernelspec": {
   "display_name": "Python 3 (ipykernel)",
   "language": "python",
   "name": "python3"
  },
  "language_info": {
   "codemirror_mode": {
    "name": "ipython",
    "version": 3
   },
   "file_extension": ".py",
   "mimetype": "text/x-python",
   "name": "python",
   "nbconvert_exporter": "python",
   "pygments_lexer": "ipython3",
   "version": "3.10.8"
  }
 },
 "nbformat": 4,
 "nbformat_minor": 5
}
